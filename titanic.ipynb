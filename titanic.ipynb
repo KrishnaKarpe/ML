{
 "cells": [
  {
   "cell_type": "code",
   "execution_count": 1,
   "id": "14935e8b",
   "metadata": {},
   "outputs": [],
   "source": [
    "import pandas as pd\n"
   ]
  },
  {
   "cell_type": "code",
   "execution_count": 2,
   "id": "9cef637d",
   "metadata": {},
   "outputs": [],
   "source": [
    "df = pd.read_csv(\"https://raw.githubusercontent.com/mwaskom/seaborn-data/master/titanic.csv\")"
   ]
  },
  {
   "cell_type": "code",
   "execution_count": 3,
   "id": "4d0e4ccc",
   "metadata": {},
   "outputs": [
    {
     "name": "stdout",
     "output_type": "stream",
     "text": [
      "class\n",
      "First     0.629630\n",
      "Second    0.472826\n",
      "Third     0.242363\n",
      "Name: survived, dtype: float64\n"
     ]
    }
   ],
   "source": [
    "sb=df.groupby('class')['survived'].mean()\n",
    "\n",
    "print(sb)"
   ]
  },
  {
   "cell_type": "code",
   "execution_count": 4,
   "id": "13dbf696",
   "metadata": {},
   "outputs": [],
   "source": [
    "df['age_group'] = df['age'].apply(lambda x: 'child' if pd.notnull(x) and x < 18 else 'adult')"
   ]
  },
  {
   "cell_type": "code",
   "execution_count": 5,
   "id": "fa2df560",
   "metadata": {},
   "outputs": [
    {
     "name": "stdout",
     "output_type": "stream",
     "text": [
      "    age     sex   person_type\n",
      "0  22.0    male          male\n",
      "1  38.0  female        female\n",
      "2  26.0  female        female\n",
      "3  35.0  female        female\n",
      "4  35.0    male          male\n",
      "5   NaN    male          male\n",
      "6  54.0    male          male\n",
      "7   2.0    male    male child\n",
      "8  27.0  female        female\n",
      "9  14.0  female  female child\n"
     ]
    }
   ],
   "source": [
    "def pt(row):\n",
    "    if row['age'] < 18:\n",
    "        return f\"{row['sex']} child\"\n",
    "    else:\n",
    "        return row['sex']\n",
    "    \n",
    "df['person_type'] = df.apply(pt, axis=1)\n",
    "print(df[['age', 'sex', 'person_type']].head(10))"
   ]
  },
  {
   "cell_type": "code",
   "execution_count": 6,
   "id": "058ebe00",
   "metadata": {},
   "outputs": [
    {
     "name": "stdout",
     "output_type": "stream",
     "text": [
      "Probability of female child survived: 0.6909090909090909\n",
      "Probability of male adult survived: 0.16570327552986513\n",
      "Probability of female adult survived: 0.752895752895753\n",
      "Probability of male child survived: 0.39655172413793105\n"
     ]
    }
   ],
   "source": [
    "sb=df.groupby('class')['survived'].mean()\n",
    "\n",
    "probablity_of_maleChild_survived =   df[(df['person_type'] == 'male child') & (df['survived'] == 1)].shape[0] / df[df['person_type'] == 'male child'].shape[0]\n",
    "probablity_of_femaleChild_survived = df[(df['person_type'] == 'female child') & (df['survived'] == 1)].shape[0] / df[df['person_type'] == 'female child'].shape[0] \n",
    "probablity_of_maleAdult_survived = df[(df['person_type'] == 'male') & (df['survived'] == 1)].shape[0] / df[df['person_type'] =='male'].shape[0]\n",
    "probablity_of_femaleAdult_survived = df[(df['person_type'] == 'female') & (df['survived'] == 1)].shape[0] / df[df['person_type'] == 'female'].shape[0]\n",
    "\n",
    "print(f\"Probability of female child survived: {probablity_of_femaleChild_survived}\")\n",
    "print(f\"Probability of male adult survived: {probablity_of_maleAdult_survived}\")\n",
    "print(f\"Probability of female adult survived: {probablity_of_femaleAdult_survived}\")\n",
    "\n",
    "print(f\"Probability of male child survived: {probablity_of_maleChild_survived}\")    "
   ]
  },
  {
   "cell_type": "code",
   "execution_count": 7,
   "id": "1b19d092",
   "metadata": {},
   "outputs": [
    {
     "ename": "ModuleNotFoundError",
     "evalue": "No module named 'matplotlib'",
     "output_type": "error",
     "traceback": [
      "\u001b[31m---------------------------------------------------------------------------\u001b[39m",
      "\u001b[31mModuleNotFoundError\u001b[39m                       Traceback (most recent call last)",
      "\u001b[36mCell\u001b[39m\u001b[36m \u001b[39m\u001b[32mIn[7]\u001b[39m\u001b[32m, line 1\u001b[39m\n\u001b[32m----> \u001b[39m\u001b[32m1\u001b[39m \u001b[38;5;28;01mimport\u001b[39;00m\u001b[38;5;250m \u001b[39m\u001b[34;01mmatplotlib\u001b[39;00m\u001b[34;01m.\u001b[39;00m\u001b[34;01mpyplot\u001b[39;00m\u001b[38;5;250m \u001b[39m\u001b[38;5;28;01mas\u001b[39;00m\u001b[38;5;250m \u001b[39m\u001b[34;01mplt\u001b[39;00m\n\u001b[32m      3\u001b[39m plt.figure(figsize=(\u001b[32m8\u001b[39m, \u001b[32m6\u001b[39m))\n\u001b[32m      4\u001b[39m plt.scatter(df[\u001b[33m'\u001b[39m\u001b[33mage\u001b[39m\u001b[33m'\u001b[39m], df[\u001b[33m'\u001b[39m\u001b[33mfare\u001b[39m\u001b[33m'\u001b[39m], alpha=\u001b[32m0.6\u001b[39m)\n",
      "\u001b[31mModuleNotFoundError\u001b[39m: No module named 'matplotlib'"
     ]
    }
   ],
   "source": [
    "import matplotlib.pyplot as plt\n",
    "\n",
    "plt.figure(figsize=(8, 6))\n",
    "plt.scatter(df['age'], df['fare'], alpha=0.6)\n",
    "plt.xlabel('Age')\n",
    "plt.ylabel('Fare')\n",
    "plt.title('Relation between Fare Paid and Age of Passengers')\n",
    "plt.grid(True)\n",
    "plt.show()"
   ]
  },
  {
   "cell_type": "code",
   "execution_count": null,
   "id": "5f04971b",
   "metadata": {},
   "outputs": [
    {
     "name": "stdout",
     "output_type": "stream",
     "text": [
      "P(not survived | adult male): 0.8342967244701349\n",
      "P(not survived | adult male, class):\n",
      "class\n",
      "First     0.652542\n",
      "Second    0.917526\n",
      "Third     0.878289\n",
      "Name: survived, dtype: float64\n",
      "Are the events independent? False\n"
     ]
    }
   ],
   "source": [
    "# P(not survived | adult male)\n",
    "p_not_survived_adult_male = df[(df['person_type'] == 'male') & (df['survived'] == 0)].shape[0] / df[df['person_type'] == 'male'].shape[0]\n",
    "\n",
    "# P(not survived | adult male, class)\n",
    "p_not_survived_adult_male_class = df[df['person_type'] == 'male'].groupby('class')['survived'].apply(lambda x: (x == 0).mean())\n",
    "\n",
    "print(f\"P(not survived | adult male): {p_not_survived_adult_male}\")\n",
    "print(\"P(not survived | adult male, class):\")\n",
    "print(p_not_survived_adult_male_class)\n",
    "\n",
    "# If P(not survived | adult male, class) == P(not survived | adult male) for all classes, then independent\n",
    "independence = all(abs(p - p_not_survived_adult_male) < 1e-6 for p in p_not_survived_adult_male_class)\n",
    "print(f\"Are the events independent? {independence}\")"
   ]
  },
  {
   "cell_type": "code",
   "execution_count": null,
   "id": "47ae46ad",
   "metadata": {},
   "outputs": [
    {
     "name": "stdout",
     "output_type": "stream",
     "text": [
      "Average age of passengers who survived: 28.343689655172415\n",
      "Average age of passengers who did not survive: 30.62617924528302\n"
     ]
    }
   ],
   "source": [
    "average_ageof_passengers_survived = df[df['survived'] == 1]['age'].mean()\n",
    "average_ageof_passengers_not_survived = df[df['survived'] == 0]['age'].mean()   \n",
    "print(f\"Average age of passengers who survived: {average_ageof_passengers_survived}\")\n",
    "print(f\"Average age of passengers who did not survive: {average_ageof_passengers_not_survived}\")"
   ]
  },
  {
   "cell_type": "code",
   "execution_count": null,
   "id": "2832d632",
   "metadata": {},
   "outputs": [
    {
     "name": "stdout",
     "output_type": "stream",
     "text": [
      "survived\n",
      "0    22.117887\n",
      "1    48.395408\n",
      "Name: fare, dtype: float64\n",
      "average fair paid by people who survived{}:  48.39540760233918\n",
      "average fair paid by people who did not survive{}:  22.117886885245902\n"
     ]
    }
   ],
   "source": [
    "average_fare=df.groupby('survived')['fare'].mean()\n",
    "print(average_fare)\n",
    "print(\"average fair paid by people who survived{}: \",average_fare[1])\n",
    "print(\"average fair paid by people who did not survive{}: \",average_fare[0])\n",
    "\n"
   ]
  },
  {
   "cell_type": "code",
   "execution_count": null,
   "id": "3301005c",
   "metadata": {},
   "outputs": [
    {
     "name": "stdout",
     "output_type": "stream",
     "text": [
      "Average fare paid by passengers who survived: 48.39540760233918\n",
      "Average fare paid by passengers who did not survive: 22.117886885245902\n"
     ]
    }
   ],
   "source": [
    "average_ageof_passengers_survived = df[df['survived'] == 1]['age'].mean()\n",
    "average_ageof_passengers_not_survived = df[df['survived'] == 0]['age'].mean()\n",
    "# print(f\"Average age of passengers who survived: {average_ageof_passengers_survived}\")\n",
    "\n",
    "# print(f\"Average age of passengers who did not survive: {average_ageof_passengers_not_survived}\")\n",
    "\n",
    "average_fare_paid_by_survived = df[df['survived'] == 1]['fare'].mean()\n",
    "average_fare_paid_by_not_survived = df[df['survived'] == 0]['fare'].mean()\n",
    "print(f\"Average fare paid by passengers who survived: {average_fare_paid_by_survived}\")\n",
    "print(f\"Average fare paid by passengers who did not survive: {average_fare_paid_by_not_survived}\")"
   ]
  },
  {
   "cell_type": "code",
   "execution_count": null,
   "id": "b2647d80",
   "metadata": {},
   "outputs": [
    {
     "name": "stdout",
     "output_type": "stream",
     "text": [
      "Probability of not survived | adult male, by class:\n",
      "class\n",
      "First     0.652542\n",
      "Second    0.917526\n",
      "Third     0.878289\n",
      "Name: survived, dtype: float64\n",
      "\n",
      "Overall probability of not survived | adult male:\n",
      "0.8342967244701349\n",
      "\n",
      "Difference from overall probability for each class:\n",
      "class\n",
      "First    -0.182\n",
      "Second    0.083\n",
      "Third     0.044\n",
      "Name: survived, dtype: float64\n",
      "In First class, the probability is 0.653 (lower than overall by 0.182)\n",
      "In Second class, the probability is 0.918 (higher than overall by 0.083)\n",
      "In Third class, the probability is 0.878 (higher than overall by 0.044)\n"
     ]
    }
   ],
   "source": [
    "# Display how the probability of not surviving for adult males changes across classes\n",
    "print(\"Probability of not survived | adult male, by class:\")\n",
    "print(p_not_survived_adult_male_class)\n",
    "\n",
    "print(\"\\nOverall probability of not survived | adult male:\")\n",
    "print(p_not_survived_adult_male)\n",
    "\n",
    "print(\"\\nDifference from overall probability for each class:\")\n",
    "print((p_not_survived_adult_male_class - p_not_survived_adult_male).round(3))\n",
    "\n",
    "# Interpretation\n",
    "for cls, prob in p_not_survived_adult_male_class.items():\n",
    "    diff = prob - p_not_survived_adult_male\n",
    "    print(f\"In {cls} class, the probability is {prob:.3f} ({'higher' if diff > 0 else 'lower'} than overall by {abs(diff):.3f})\")"
   ]
  },
  {
   "cell_type": "code",
   "execution_count": null,
   "id": "c798d445",
   "metadata": {},
   "outputs": [],
   "source": [
    "df.to_csv(\"titanic.csv\", index=False)"
   ]
  }
 ],
 "metadata": {
  "kernelspec": {
   "display_name": "venv (3.12.2)",
   "language": "python",
   "name": "python3"
  },
  "language_info": {
   "codemirror_mode": {
    "name": "ipython",
    "version": 3
   },
   "file_extension": ".py",
   "mimetype": "text/x-python",
   "name": "python",
   "nbconvert_exporter": "python",
   "pygments_lexer": "ipython3",
   "version": "3.12.2"
  }
 },
 "nbformat": 4,
 "nbformat_minor": 5
}
