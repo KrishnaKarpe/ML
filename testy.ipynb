{
 "cells": [
  {
   "cell_type": "code",
   "execution_count": 6,
   "id": "c1018581",
   "metadata": {},
   "outputs": [
    {
     "name": "stdout",
     "output_type": "stream",
     "text": [
      "Variance: 93.71428571428571\n",
      "Standard Deviation: 9.680613912055666\n"
     ]
    }
   ],
   "source": [
    "import numpy as np\n",
    "\n",
    "# Example small dataset\n",
    "data = [2,3,4,5,8,9,32]\n",
    "\n",
    "# Calculate variance\n",
    "variance = np.var(data, ddof=0)  # Population variance\n",
    "\n",
    "# Calculate standard deviation\n",
    "std_deviation = np.std(data, ddof=0)  # Population standard deviation\n",
    "\n",
    "print(f\"Variance: {variance}\")\n",
    "print(f\"Standard Deviation: {std_deviation}\")"
   ]
  }
 ],
 "metadata": {
  "kernelspec": {
   "display_name": "venv (3.12.2)",
   "language": "python",
   "name": "python3"
  },
  "language_info": {
   "codemirror_mode": {
    "name": "ipython",
    "version": 3
   },
   "file_extension": ".py",
   "mimetype": "text/x-python",
   "name": "python",
   "nbconvert_exporter": "python",
   "pygments_lexer": "ipython3",
   "version": "3.12.2"
  }
 },
 "nbformat": 4,
 "nbformat_minor": 5
}
